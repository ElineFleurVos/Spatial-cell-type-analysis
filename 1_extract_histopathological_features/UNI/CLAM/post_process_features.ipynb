{
 "cells": [
  {
   "cell_type": "code",
   "execution_count": 12,
   "metadata": {},
   "outputs": [],
   "source": [
    "import pandas as pd\n",
    "import h5py\n",
    "import os "
   ]
  },
  {
   "cell_type": "code",
   "execution_count": 39,
   "metadata": {},
   "outputs": [
    {
     "name": "stdout",
     "output_type": "stream",
     "text": [
      "Saved /home/evos/Outputs/CRC/UNI_features_TCGA/FFPE_CLAM/TCGA-4N-A93T-01Z-00-DX1_features.parquet\n",
      "Saved /home/evos/Outputs/CRC/UNI_features_TCGA/FFPE_CLAM/TCGA-3L-AA1B-01Z-00-DX2_features.parquet\n",
      "Saved /home/evos/Outputs/CRC/UNI_features_TCGA/FFPE_CLAM/TCGA-A6-2671-01Z-00-DX1_features.parquet\n",
      "Saved /home/evos/Outputs/CRC/UNI_features_TCGA/FFPE_CLAM/TCGA-A6-2672-01Z-00-DX1_features.parquet\n",
      "Processing complete!\n"
     ]
    }
   ],
   "source": [
    "# Input and output directories\n",
    "input_dir = '/home/evos/Outputs/CRC/FFPE/CLAM_patch_features/h5_files'\n",
    "output_dir = '/home/evos/Outputs/CRC/UNI_features_TCGA/FFPE_CLAM'\n",
    "\n",
    "# Ensure the output directory exists\n",
    "os.makedirs(output_dir, exist_ok=True)\n",
    "\n",
    "# Loop through all .h5 files in the input directory\n",
    "for file_name in os.listdir(input_dir):\n",
    "    if file_name.endswith('.h5'):  # Process only .h5 files\n",
    "        file_path = os.path.join(input_dir, file_name)\n",
    "        \n",
    "        # Open and process the .h5 file\n",
    "        with h5py.File(file_path, 'r') as h5_file:\n",
    "            # Extract datasets\n",
    "            coords = h5_file['coords'][:]\n",
    "            features = h5_file['features'][:]\n",
    "        \n",
    "        # Extract slide name from the file name\n",
    "        slide_name = file_name.split(\".\")[0]\n",
    "\n",
    "        # Prepare the data for DataFrame\n",
    "        data = {\n",
    "            'slide_submitter_id': [slide_name] * len(coords),\n",
    "            'Coord_X': coords[:, 0],\n",
    "            'Coord_Y': coords[:, 1]\n",
    "        }\n",
    "\n",
    "        # Add feature columns\n",
    "        feature_columns = {f'Feature_{i}': features[:, i] for i in range(features.shape[1])}\n",
    "        data.update(feature_columns)\n",
    "\n",
    "        # Create the DataFrame\n",
    "        df = pd.DataFrame(data)\n",
    "        \n",
    "        # Add additional columns\n",
    "        df['tile_ID'] = df['slide_submitter_id'] + '_' + df['Coord_X'].astype(str) + '_' + df['Coord_Y'].astype(str)\n",
    "        df['sample_submitter_id'] = df['tile_ID'].str.split('-').str[:4].str.join('-')\n",
    "        df['Section'] = df['slide_submitter_id'].str.split('-').str[-1]\n",
    "\n",
    "        # Save the DataFrame to a parquet file\n",
    "        output_file = os.path.join(output_dir, f\"{slide_name}_features.parquet\")\n",
    "        df.to_parquet(output_file, index=False)\n",
    "        print(f\"Saved {output_file}\")\n",
    "\n",
    "print(\"Processing complete!\")\n"
   ]
  }
 ],
 "metadata": {
  "kernelspec": {
   "display_name": "other",
   "language": "python",
   "name": "python3"
  },
  "language_info": {
   "codemirror_mode": {
    "name": "ipython",
    "version": 3
   },
   "file_extension": ".py",
   "mimetype": "text/x-python",
   "name": "python",
   "nbconvert_exporter": "python",
   "pygments_lexer": "ipython3",
   "version": "3.11.10"
  }
 },
 "nbformat": 4,
 "nbformat_minor": 2
}
