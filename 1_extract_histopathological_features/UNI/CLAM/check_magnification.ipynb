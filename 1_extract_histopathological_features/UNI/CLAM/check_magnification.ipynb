{
 "cells": [
  {
   "cell_type": "code",
   "execution_count": null,
   "metadata": {
    "vscode": {
     "languageId": "plaintext"
    }
   },
   "outputs": [],
   "source": [
    "import os "
   ]
  },
  {
   "cell_type": "code",
   "execution_count": null,
   "metadata": {
    "vscode": {
     "languageId": "plaintext"
    }
   },
   "outputs": [],
   "source": [
    "counter=1\n",
    "    for slide_filename in images_for_tiling:\n",
    "            if slide_filename.endswith('.svs'):\n",
    "                print(counter, ':', slide_filename)\n",
    "                slide = OpenSlide(\"{}/{}\".format(slides_dir, slide_filename))\n",
    "                slide_name = slide_filename.split(\".\")[0]\n",
    "                if (\n",
    "                    str(slide.properties.values.__self__.get(\"tiff.ImageDescription\")).find(\n",
    "                        \"AppMag = 40\"\n",
    "                    )\n",
    "                    != -1\n",
    "                ):\n",
    "                    region_size = 1024\n",
    "                    tile_size = 924\n",
    "                else:\n",
    "                    region_size = 512\n",
    "                    tile_size = 462"
   ]
  }
 ],
 "metadata": {
  "language_info": {
   "name": "python"
  }
 },
 "nbformat": 4,
 "nbformat_minor": 2
}
