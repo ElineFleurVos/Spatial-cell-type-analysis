{
 "cells": [
  {
   "cell_type": "code",
   "execution_count": 1,
   "metadata": {},
   "outputs": [],
   "source": [
    "import pandas as pd\n",
    "from scipy.stats import pearsonr, spearmanr\n",
    "import numpy as np\n",
    "import matplotlib.pyplot as plt\n",
    "import seaborn as sns\n",
    "from scipy.stats import ttest_rel, wilcoxon, shapiro\n",
    "import sys \n",
    "\n",
    "from libs_spatial_features_evaluation import *"
   ]
  },
  {
   "cell_type": "code",
   "execution_count": 2,
   "metadata": {},
   "outputs": [],
   "source": [
    "#input_dir = r\"C:\\Users\\20182460\\Desktop\\Master_thesis\\Code\\Outputs\\SKCM\\Complete dataset\\Spatial features\"\n",
    "#input_dir = r\"C:\\Users\\20182460\\Desktop\\Master_thesis\\Code\\Outputs\\FINAL RESULTS\\SKCM_FF_FFPE\\run1\"\n",
    "# dir_spatial_FF = f\"{input_dir}/all_features_combined_FF.csv\"\n",
    "# dir_spatial_FFPE_FF = f\"{input_dir}/all_features_combined_FFPE_FF.csv\"\n",
    "# dir_spatial_FFPE = f\"{input_dir}/all_features_combined_FFPE.csv\"\n",
    "\n",
    "corr_method = 'pearson'\n",
    "\n",
    "dir_spatial_FF = \"/home/evos/Outputs/SKCM/spatial_features_run2/all_features_combined_FF.csv\"\n",
    "dir_spatial_FFPE_FF = \"/home/evos/Outputs/SKCM/spatial_features_run2/all_features_combined_FFPE_FF.csv\"\n",
    "dir_spatial_FFPE = \"/home/evos/Outputs/SKCM/spatial_features_run2/all_features_combined_FFPE.csv\"\n",
    "\n",
    "df_FF = pd.read_csv(dir_spatial_FF, sep=\"\\t\")\n",
    "df_FFPE_FF = pd.read_csv(dir_spatial_FFPE_FF, sep=\"\\t\")\n",
    "df_FFPE = pd.read_csv(dir_spatial_FFPE, sep=\"\\t\")\n",
    "\n",
    "#reset indices \n",
    "df_FF.set_index('TCGA sample ID', inplace=True)\n",
    "df_FFPE_FF.set_index('TCGA sample ID', inplace=True)\n",
    "df_FFPE.set_index('TCGA sample ID', inplace=True)\n",
    "\n",
    "#clean dataframes \n",
    "df_FF_cleaned = clean_graph_feature_df(df_FF)\n",
    "df_FFPE_FF_cleaned = clean_graph_feature_df(df_FFPE_FF)\n",
    "df_FFPE_cleaned = clean_graph_feature_df(df_FFPE)"
   ]
  },
  {
   "cell_type": "code",
   "execution_count": 3,
   "metadata": {},
   "outputs": [
    {
     "name": "stderr",
     "output_type": "stream",
     "text": [
      "/home/evos/extra_code/FF_vs_FFPE_analysis/libs_spatial_features_evaluation.py:118: FutureWarning: DataFrame.applymap has been deprecated. Use DataFrame.map instead.\n",
      "  clean_merged_df = merged_df.dropna(how='any').applymap(lambda x: x if np.isfinite(x) else np.nan).dropna()\n"
     ]
    },
    {
     "name": "stdout",
     "output_type": "stream",
     "text": [
      "percentage significant correlation: 55.2%\n",
      "percentage significant correlation: 38.5%\n"
     ]
    },
    {
     "name": "stderr",
     "output_type": "stream",
     "text": [
      "/home/evos/extra_code/FF_vs_FFPE_analysis/libs_spatial_features_evaluation.py:118: FutureWarning: DataFrame.applymap has been deprecated. Use DataFrame.map instead.\n",
      "  clean_merged_df = merged_df.dropna(how='any').applymap(lambda x: x if np.isfinite(x) else np.nan).dropna()\n",
      "/home/evos/extra_code/FF_vs_FFPE_analysis/libs_spatial_features_evaluation.py:118: FutureWarning: DataFrame.applymap has been deprecated. Use DataFrame.map instead.\n",
      "  clean_merged_df = merged_df.dropna(how='any').applymap(lambda x: x if np.isfinite(x) else np.nan).dropna()\n"
     ]
    },
    {
     "name": "stdout",
     "output_type": "stream",
     "text": [
      "percentage significant correlation: 86.5%\n"
     ]
    }
   ],
   "source": [
    "#merged_df = pd.merge(df_FF_cleaned, df_FFPE_FF_cleaned, left_index=True, right_index=True, suffixes=(' 1', ' 2'), how='inner')\n",
    "merged_df_FF_FFPE_FF = pd.merge(df_FF_cleaned, df_FFPE_FF_cleaned, left_index=True, right_index=True, suffixes=(' 1', ' 2'), how='inner')\n",
    "merged_df_FF_FFPE = pd.merge(df_FF_cleaned, df_FFPE_cleaned, left_index=True, right_index=True, suffixes=(' 1', ' 2'), how='inner')\n",
    "merged_df_FFPE = pd.merge(df_FFPE_FF_cleaned, df_FFPE_cleaned, left_index=True, right_index=True, suffixes=(' 1', ' 2'), how='inner')\n",
    "\n",
    "#calculate correlations \n",
    "results_FF_vs_FFPE_FF_p = calc_correlations(merged_df_FF_FFPE_FF, min_pairs=2, corr_method=corr_method)\n",
    "results_FF_vs_FFPE_FFPE_p = calc_correlations(merged_df_FF_FFPE, min_pairs=2, corr_method=corr_method)\n",
    "results_FFPE_FF_vs_FFPE_FFPE_p = calc_correlations(merged_df_FFPE, min_pairs=2, corr_method=corr_method)\n",
    "all_results = [results_FF_vs_FFPE_FF_p, results_FF_vs_FFPE_FFPE_p, results_FFPE_FF_vs_FFPE_FFPE_p]  "
   ]
  },
  {
   "cell_type": "code",
   "execution_count": 4,
   "metadata": {},
   "outputs": [
    {
     "name": "stdout",
     "output_type": "stream",
     "text": [
      "wilcoxon\n",
      "4.436403528604994e-06\n",
      "wilcoxon\n",
      "2.2526729505326666e-09\n",
      "wilcoxon\n",
      "6.098264252395885e-14\n"
     ]
    },
    {
     "data": {
      "image/png": "[encoded data removed]",
      "text/plain": [
       "<Figure size 600x400 with 1 Axes>"
      ]
     },
     "metadata": {},
     "output_type": "display_data"
    }
   ],
   "source": [
    "output_dir_plot = \"/home/evos/figures/figures_FF_vs_FFPE\"\n",
    "titles_box=['FF vs FFPE \\n(FF trained)', 'FF vs FFPE \\n (FFPE trained)', 'FFPE (FF trained) \\n vs FFPE (FFPE \\n trained)']\n",
    "\n",
    "corrs_FF_vs_FFPE_FF = list(all_results[0]['corrs'].values())\n",
    "corrs_FF_vs_FFPE_FFPE = list(all_results[1]['corrs'].values())\n",
    "corrs_FFPE = list(all_results[2]['corrs'].values())\n",
    "\n",
    "plt.figure(figsize=(6, 4))\n",
    "sns.boxplot(data=[corrs_FF_vs_FFPE_FF, corrs_FF_vs_FFPE_FFPE, corrs_FFPE], palette=[\"#2980b9\"] * 3)\n",
    "\n",
    "# Customize plot\n",
    "plt.xticks(ticks=range(len(titles_box)), labels=titles_box, rotation=0, fontsize=10)\n",
    "plt.yticks(fontsize=9)\n",
    "plt.ylabel('$r$', fontsize=12)\n",
    "plt.grid(axis='y', linestyle='--', alpha=0.7)\n",
    "for i in range(len(all_results)):\n",
    "    x_pos = i\n",
    "    y_pos = max(all_results[i]['corrs'].values())+0.03\n",
    "    plt.text(x_pos, y_pos, f'{all_results[i][\"percentage significant corr\"]:.1f}%', ha='center', va='bottom', color='black', fontsize=10)\n",
    "plt.ylim(-0.3, 1.19)\n",
    "\n",
    "# Annotate significance levels above boxplots\n",
    "y_max = max(max(corrs_FF_vs_FFPE_FF), max(corrs_FF_vs_FFPE_FFPE), max(corrs_FFPE))\n",
    "#y_offsets = [y_max + 0.02, y_max + 0.08, y_max + 0.12] # Increase vertical spacing between accolades\n",
    "y_offsets = [0.55, 1.05, 1.15]\n",
    "comparisons = [\n",
    "    (0, 1, \"[FF vs FFPE (FF)] vs [FF vs FFPE (FFPE)]\"),\n",
    "    (0, 2, \"[FF vs FFPE (FF)] vs [FFPE]\"),\n",
    "    (1, 2, \"[FF vs FFPE (FFPE)] vs [FFPE]\")\n",
    "]\n",
    "\n",
    "for idx, (i, j, label) in enumerate(comparisons):\n",
    "    data1, data2 = [corrs_FF_vs_FFPE_FF, corrs_FF_vs_FFPE_FFPE, corrs_FFPE][i], [corrs_FF_vs_FFPE_FF, corrs_FF_vs_FFPE_FFPE, corrs_FFPE][j]\n",
    "    \n",
    "    # Perform tests\n",
    "    shapiro_stat1, pvalue1 = shapiro(data1)\n",
    "    shapiro_stat2, pvalue2 = shapiro(data2)\n",
    "\n",
    "    if pvalue1 <= 0.05 or pvalue2 <= 0.05:\n",
    "        print('wilcoxon')\n",
    "        stat, p_value = wilcoxon(data1, data2)\n",
    "        print(p_value)\n",
    "    else:\n",
    "        print('t-test')\n",
    "        stat, p_value = wilcoxon(data1, data2)\n",
    "        #stat, p_value = wilcoxon(data1, data2)\n",
    "        print(p_value)\n",
    "    \n",
    "    # Determine significance stars based on new criteria\n",
    "    if p_value < 0.0001:\n",
    "        stars = \"****\"\n",
    "    elif p_value < 0.001:\n",
    "        stars = \"***\"\n",
    "    elif p_value < 0.01:\n",
    "        stars = \"**\"\n",
    "    elif p_value < 0.05:\n",
    "        stars = \"*\"\n",
    "    else:\n",
    "        stars = \"\"  # No stars if p-value >= 0.05\n",
    "\n",
    "    # Draw accolades (brackets) and add stars\n",
    "    if stars:\n",
    "        x1, x2 = i, j  # Positions of the groups\n",
    "        y, h = y_offsets[idx], 0.015  # Adjust height for thinner line and more spacing\n",
    "        plt.plot([x1, x1, x2, x2], [y, y + h, y + h, y], lw=1, color='black')  # Draw thinner bracket\n",
    "        plt.text((x1 + x2) / 2, y + h, stars, ha='center', va='bottom', color='black', fontsize=10)  # Adjust stars position\n",
    "\n",
    "#plt.ylim(-0.3, y_max + 0.12)  # Extend y-axis to fit accolades\n",
    "plt.gca().spines['top'].set_visible(False)\n",
    "plt.gca().spines['right'].set_visible(False)\n",
    "\n",
    "plt.tight_layout()\n",
    "plt.savefig(f\"{output_dir_plot}/FF_vs_FFPE_all\", dpi=300) \n",
    "plt.show()\n",
    "plt.close()  "
   ]
  }
 ],
 "metadata": {
  "kernelspec": {
   "display_name": "other",
   "language": "python",
   "name": "python3"
  },
  "language_info": {
   "codemirror_mode": {
    "name": "ipython",
    "version": 3
   },
   "file_extension": ".py",
   "mimetype": "text/x-python",
   "name": "python",
   "nbconvert_exporter": "python",
   "pygments_lexer": "ipython3",
   "version": "3.11.10"
  }
 },
 "nbformat": 4,
 "nbformat_minor": 2
}
