{
 "cells": [
  {
   "cell_type": "code",
   "execution_count": 1,
   "metadata": {},
   "outputs": [],
   "source": [
    "import pandas as pd\n",
    "from scipy.stats import pearsonr, spearmanr\n",
    "import numpy as np\n",
    "import matplotlib.pyplot as plt\n",
    "import seaborn as sns\n",
    "from scipy.stats import ttest_rel, wilcoxon, shapiro\n",
    "import sys \n",
    "\n",
    "from libs_spatial_features_evaluation import *"
   ]
  },
  {
   "cell_type": "code",
   "execution_count": 2,
   "metadata": {},
   "outputs": [],
   "source": [
    "input_dir1 = \"/home/evos/Outputs/SKCM/spatial_features_run1\"\n",
    "input_dir2 = \"/home/evos/Outputs/SKCM/spatial_features_run2\"\n",
    "dir_spatial_FF1 = f\"{input_dir1}/all_features_combined_FF.csv\"\n",
    "dir_spatial_FF2 = f\"{input_dir2}/all_features_combined_FF.csv\"\n",
    "dir_spatial_FFPE_FF1 = f\"{input_dir1}/all_features_combined_FFPE_FF.csv\"\n",
    "dir_spatial_FFPE_FF2 = f\"{input_dir2}/all_features_combined_FFPE_FF.csv\"\n",
    "dir_spatial_FFPE1 = f\"{input_dir1}/all_features_combined_FFPE.csv\"\n",
    "dir_spatial_FFPE2 = f\"{input_dir2}/all_features_combined_FFPE.csv\"\n",
    "\n",
    "dir_list = [dir_spatial_FF1, dir_spatial_FF2, dir_spatial_FFPE_FF1, dir_spatial_FFPE_FF2, \n",
    "            dir_spatial_FFPE1, dir_spatial_FFPE2]\n",
    "df_name_list = [\"spatial_FF1\", \"spatial_FF2\", \"spatial_FFPE_FF1\", \"spatial_FFPE_FF2\",\n",
    "                \"spatial_FFPE1\", \"spatial_FFPE2\"]\n"
   ]
  },
  {
   "cell_type": "code",
   "execution_count": 3,
   "metadata": {},
   "outputs": [
    {
     "name": "stderr",
     "output_type": "stream",
     "text": [
      "/home/evos/extra_code/FF_vs_FFPE_analysis/libs_spatial_features_evaluation.py:118: FutureWarning: DataFrame.applymap has been deprecated. Use DataFrame.map instead.\n",
      "  clean_merged_df = merged_df.dropna(how='any').applymap(lambda x: x if np.isfinite(x) else np.nan).dropna()\n"
     ]
    },
    {
     "name": "stdout",
     "output_type": "stream",
     "text": [
      "percentage significant correlation: 100.0%\n"
     ]
    },
    {
     "name": "stderr",
     "output_type": "stream",
     "text": [
      "/home/evos/extra_code/FF_vs_FFPE_analysis/libs_spatial_features_evaluation.py:118: FutureWarning: DataFrame.applymap has been deprecated. Use DataFrame.map instead.\n",
      "  clean_merged_df = merged_df.dropna(how='any').applymap(lambda x: x if np.isfinite(x) else np.nan).dropna()\n"
     ]
    },
    {
     "name": "stdout",
     "output_type": "stream",
     "text": [
      "percentage significant correlation: 100.0%\n",
      "percentage significant correlation: 100.0%\n"
     ]
    },
    {
     "name": "stderr",
     "output_type": "stream",
     "text": [
      "/home/evos/extra_code/FF_vs_FFPE_analysis/libs_spatial_features_evaluation.py:118: FutureWarning: DataFrame.applymap has been deprecated. Use DataFrame.map instead.\n",
      "  clean_merged_df = merged_df.dropna(how='any').applymap(lambda x: x if np.isfinite(x) else np.nan).dropna()\n"
     ]
    }
   ],
   "source": [
    "cleaned_dfs = {}\n",
    "for i in range(len(dir_list)):\n",
    "    directory=dir_list[i]\n",
    "    df = pd.read_csv(directory, sep=\"\\t\")\n",
    "    \n",
    "    if 'TCGA_sample_ID' in df.columns:\n",
    "        df.rename(columns={'TCGA_sample_ID': 'TCGA sample ID'}, inplace=True)\n",
    "    if 'TCGA_patient_ID' in df.columns:\n",
    "        df.rename(columns={'TCGA_patient_ID': 'TCGA patient ID'}, inplace=True)\n",
    "    if 'sample_submitter_id' in df.columns:\n",
    "        df.rename(columns={'sample_submitter_id': 'sample submitter id'}, inplace=True)\n",
    "        \n",
    "    # Now set the standardized column as the index\n",
    "    df.set_index('TCGA sample ID', inplace=True)\n",
    "    df_cleaned = clean_graph_feature_df(df)\n",
    "    cleaned_dfs[df_name_list[i]] = df_cleaned\n",
    "\n",
    "merged_df_FF = pd.merge(cleaned_dfs[\"spatial_FF1\"], cleaned_dfs[\"spatial_FF2\"], left_index=True, right_index=True, suffixes=(' 1', ' 2'), how='inner')\n",
    "merged_df_FFPE_FF = pd.merge(cleaned_dfs[\"spatial_FFPE_FF1\"], cleaned_dfs[\"spatial_FFPE_FF2\"], left_index=True, right_index=True, suffixes=(' 1', ' 2'), how='inner')\n",
    "merged_df_FFPE = pd.merge(cleaned_dfs[\"spatial_FFPE1\"], cleaned_dfs[\"spatial_FFPE2\"], left_index=True, right_index=True, suffixes=(' 1', ' 2'), how='inner')\n",
    "\n",
    "results_FF = calc_correlations(merged_df_FF, min_pairs=2, corr_method='pearson')\n",
    "results_FFPE_FF = calc_correlations(merged_df_FFPE_FF, min_pairs=2, corr_method='pearson')\n",
    "results_FFPE = calc_correlations(merged_df_FFPE, min_pairs=2, corr_method='pearson')\n",
    "all_results = [results_FF, results_FFPE_FF, results_FFPE]"
   ]
  },
  {
   "cell_type": "code",
   "execution_count": 4,
   "metadata": {},
   "outputs": [
    {
     "name": "stdout",
     "output_type": "stream",
     "text": [
      "wilcoxon\n",
      "1.7854372125059342e-05\n",
      "wilcoxon\n",
      "4.4830740098074977e-14\n",
      "wilcoxon\n",
      "1.1235957024470704e-11\n"
     ]
    },
    {
     "data": {
      "image/png": "[encoded data removed]",
      "text/plain": [
       "<Figure size 600x400 with 1 Axes>"
      ]
     },
     "metadata": {},
     "output_type": "display_data"
    }
   ],
   "source": [
    "output_dir_plot = \"/home/evos/figures/figures_FF_vs_FFPE\"\n",
    "corr_method = 'spearman'\n",
    "titles_box=['FF', 'FFPE \\n (FF trained)', 'FFPE \\n (FFPE trained)']\n",
    "\n",
    "corrs_FF = list(results_FF['corrs'].values())\n",
    "corrs_FFPE_FF = list(results_FFPE_FF['corrs'].values())\n",
    "corrs_FFPE = list(results_FFPE['corrs'].values())\n",
    "\n",
    "plt.figure(figsize=(6, 4))\n",
    "sns.boxplot(data=[corrs_FF, corrs_FFPE_FF, corrs_FFPE], palette=[\"#2980b9\"] * 3)\n",
    "\n",
    "# Customize plot\n",
    "plt.xticks(ticks=range(len(titles_box)), labels=titles_box, rotation=0, fontsize=10)\n",
    "plt.yticks([0.0, 0.2, 0.4, 0.6, 0.8, 1.0], fontsize=9)\n",
    "plt.ylabel('$r$', fontsize=12)\n",
    "plt.grid(axis='y', linestyle='--', alpha=0.7)\n",
    "for i in range(len(all_results)):\n",
    "    x_pos = i\n",
    "    y_pos = max(all_results[i]['corrs'].values())+0.01\n",
    "    plt.text(x_pos, y_pos, f'{all_results[i][\"percentage significant corr\"]:.1f}%', ha='center', va='bottom', color='black', fontsize=10)\n",
    "plt.ylim(0, 1.34) #1.29\n",
    "\n",
    "# Annotate significance levels above boxplots\n",
    "y_max = max(max(corrs_FF), max(corrs_FFPE_FF), max(corrs_FFPE))\n",
    "#y_offsets = [y_max + 0.02, y_max + 0.08, y_max + 0.12] # Increase vertical spacing between accolades\n",
    "y_offsets = [1.08, 1.16, 1.24]\n",
    "comparisons = [\n",
    "    (0, 1, \"FF\"),\n",
    "    (0, 2, \"FFPE (FF trained)\"),\n",
    "    (1, 2, \"FFPE (FFPE trained)\")\n",
    "]\n",
    "\n",
    "##################3\n",
    "for idx, (i, j, label) in enumerate(comparisons):\n",
    "    data1, data2 = [corrs_FF, corrs_FFPE_FF, corrs_FFPE][i], [corrs_FF, corrs_FFPE_FF, corrs_FFPE][j]\n",
    "    \n",
    "    # Perform tests\n",
    "    shapiro_stat1, pvalue1 = shapiro(data1)\n",
    "    shapiro_stat2, pvalue2 = shapiro(data2)\n",
    "\n",
    "    if pvalue1 <= 0.05 or pvalue2 <= 0.05:\n",
    "        print('wilcoxon')\n",
    "        stat, p_value = wilcoxon(data1, data2)\n",
    "        print(p_value)\n",
    "    else:\n",
    "        print('t-test')\n",
    "        stat, p_value = ttest_rel(data1, data2)\n",
    "        #stat, p_value = wilcoxon(data1, data2)\n",
    "        print(p_value)\n",
    "    \n",
    "    # Determine significance stars based on new criteria\n",
    "    if p_value < 0.0001:\n",
    "        stars = \"****\"\n",
    "    elif p_value < 0.001:\n",
    "        stars = \"***\"\n",
    "    elif p_value < 0.01:\n",
    "        stars = \"**\"\n",
    "    elif p_value < 0.05:\n",
    "        stars = \"*\"\n",
    "    else:\n",
    "        stars = \"\"  # No stars if p-value >= 0.05\n",
    "\n",
    "    # Draw accolades (brackets) and add stars\n",
    "    if stars:\n",
    "        x1, x2 = i, j  # Positions of the groups\n",
    "        y, h = y_offsets[idx], 0.015  # Adjust height for thinner line and more spacing\n",
    "        plt.plot([x1, x1, x2, x2], [y, y + h, y + h, y], lw=1, color='black')  # Draw thinner bracket\n",
    "        plt.text((x1 + x2) / 2, y + h, stars, ha='center', va='bottom', color='black', fontsize=8)  # Adjust stars position\n",
    "##############\n",
    "\n",
    "#plt.ylim(-0.3, y_max + 0.12)  # Extend y-axis to fit accolades\n",
    "plt.gca().spines['top'].set_visible(False)\n",
    "plt.gca().spines['right'].set_visible(False)\n",
    "\n",
    "plt.tight_layout()\n",
    "plt.savefig(f\"{output_dir_plot}/FF_FFPE_retrain\", dpi=300) \n",
    "plt.show()\n",
    "plt.close()  "
   ]
  }
 ],
 "metadata": {
  "kernelspec": {
   "display_name": "other",
   "language": "python",
   "name": "python3"
  },
  "language_info": {
   "codemirror_mode": {
    "name": "ipython",
    "version": 3
   },
   "file_extension": ".py",
   "mimetype": "text/x-python",
   "name": "python",
   "nbconvert_exporter": "python",
   "pygments_lexer": "ipython3",
   "version": "3.11.10"
  }
 },
 "nbformat": 4,
 "nbformat_minor": 2
}
