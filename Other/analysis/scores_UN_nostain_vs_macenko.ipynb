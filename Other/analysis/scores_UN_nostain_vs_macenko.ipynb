{
 "cells": [
  {
   "cell_type": "code",
   "execution_count": null,
   "metadata": {},
   "outputs": [],
   "source": [
    "import pandas as pd \n",
    "import sys\n",
    "import matplotlib.pyplot as plt \n",
    "import seaborn as sns \n",
    "from sklearn.metrics import roc_auc_score, roc_curve\n",
    "import scipy.stats as stats\n",
    "import pickle\n",
    "from scipy.stats import wilcoxon, spearmanr\n",
    "from sklearn.linear_model import LinearRegression\n",
    "\n",
    "REPO_DIR = git.Repo(os.getcwd(), search_parent_directories=True).working_tree_dir\n",
    "sys.path.append(f\"{REPO_DIR}/4_validation/validation_kather\")\n",
    "from kather_analysis_function import AUC_kather"
   ]
  },
  {
   "cell_type": "code",
   "execution_count": 6,
   "metadata": {},
   "outputs": [
    {
     "name": "stdout",
     "output_type": "stream",
     "text": [
      "Average AUC over all slides: 0.5970\n",
      "Combined AUC = 0.6953\n",
      "Finished kather analysis\n",
      "Average AUC over all slides: 0.5939\n",
      "Combined AUC = 0.6812\n",
      "Finished kather analysis\n",
      "Average AUC over all slides: 0.6584\n",
      "Combined AUC = 0.7373\n",
      "Finished kather analysis\n",
      "Average AUC over all slides: 0.6623\n",
      "Combined AUC = 0.7458\n",
      "Finished kather analysis\n"
     ]
    }
   ],
   "source": [
    "#Load all results \n",
    "pred_dir_nostain_FF = \"/home/evos/Outputs/CRC/Orion/MIL_results/MIL_UNI_FF_FFPE/T/T_norm_nostain_FF.csv\"\n",
    "pred_dir_macenko_FF = \"/home/evos/Outputs/CRC/Orion/MIL_results/MIL_UNI_FF_FFPE/T/T_norm_macenko_FF.csv\"\n",
    "pred_dir_nostain_FFPE = \"/home/evos/Outputs/CRC/Orion/MIL_results/MIL_UNI_FF_FFPE/T/T_norm_nostain_FFPE.csv\"\n",
    "pred_dir_macenko_FFPE = \"/home/evos/Outputs/CRC/Orion/MIL_results/MIL_UNI_FF_FFPE/T/T_norm_macenko_FFPE.csv\"\n",
    "\n",
    "pred_nostain_FF  = pd.read_csv(pred_dir_nostain_FF, sep=\"\\t\")\n",
    "pred_macenko_FF = pd.read_csv(pred_dir_macenko_FF, sep=\"\\t\")\n",
    "pred_nostain_FFPE = pd.read_csv(pred_dir_nostain_FFPE, sep=\"\\t\")\n",
    "pred_macenko_FFPE = pd.read_csv(pred_dir_macenko_FFPE, sep=\"\\t\")\n",
    "\n",
    "all_results_nostain_FF = AUC_kather(pred_nostain_FF, 'T_cells', 'LYM')\n",
    "all_results_macenko_FF = AUC_kather(pred_macenko_FF, 'T_cells', 'LYM')\n",
    "all_results_macenko_FF = AUC_kather(pred_nostain_FFPE, 'T_cells', 'LYM')\n",
    "all_results_macenko_FF = AUC_kather(pred_macenko_FFPE, 'T_cells', 'LYM')"
   ]
  }
 ],
 "metadata": {
  "kernelspec": {
   "display_name": "other",
   "language": "python",
   "name": "python3"
  },
  "language_info": {
   "codemirror_mode": {
    "name": "ipython",
    "version": 3
   },
   "file_extension": ".py",
   "mimetype": "text/x-python",
   "name": "python",
   "nbconvert_exporter": "python",
   "pygments_lexer": "ipython3",
   "version": "3.11.10"
  }
 },
 "nbformat": 4,
 "nbformat_minor": 2
}
