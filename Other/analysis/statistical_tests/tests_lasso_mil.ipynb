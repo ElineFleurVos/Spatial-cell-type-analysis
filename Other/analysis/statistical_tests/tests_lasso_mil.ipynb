{
 "cells": [
  {
   "cell_type": "code",
   "execution_count": 1,
   "metadata": {},
   "outputs": [],
   "source": [
    "import pandas as pd \n",
    "import sys\n",
    "import matplotlib.pyplot as plt \n",
    "import seaborn as sns \n",
    "from sklearn.metrics import roc_auc_score, roc_curve\n",
    "import scipy.stats as stats\n",
    "import pickle\n",
    "from scipy.stats import wilcoxon, spearmanr\n",
    "\n",
    "sys.path.append(\"C:/Users/20182460/Documents/GitHub/THESIS/analysis_kather\")\n",
    "from kather_analysis_function import AUC_kather\n",
    "from sklearn.linear_model import LinearRegression"
   ]
  },
  {
   "cell_type": "code",
   "execution_count": 2,
   "metadata": {},
   "outputs": [],
   "source": [
    "output_dir_RMTLR = \"C:/Users/20182460/Desktop/Master_thesis/Code/Outputs/FINAL RESULTS/CRC/multitask_lasso\"\n",
    "output_dir_MIL = \"C:/Users/20182460/Desktop/Master_thesis/Code/Outputs/FINAL RESULTS/CRC/MIL/MIL_final_pcchip\"\n",
    "\n",
    "# Define the names of the files and corresponding variables\n",
    "file_names = [\"Pan-CK_99\",\"E-cadherin_99\", \"cadpan_99\", \"CD3e_99\", \"CD31_99\"]\n",
    "\n",
    "loaded_data_RMTLR = {}\n",
    "# Load the lists using a loop\n",
    "for name in file_names:\n",
    "    with open(f\"{output_dir_RMTLR}/{name}.pkl\", \"rb\") as file:\n",
    "        loaded_data_RMTLR[name] = pickle.load(file)\n",
    "\n",
    "loaded_data_MIL = {}\n",
    "# Load the lists using a loop\n",
    "for name in file_names:\n",
    "    with open(f\"{output_dir_MIL}/{name}.pkl\", \"rb\") as file:\n",
    "        loaded_data_MIL[name] = pickle.load(file)"
   ]
  },
  {
   "cell_type": "code",
   "execution_count": 3,
   "metadata": {},
   "outputs": [],
   "source": [
    "panck_RMTLR = loaded_data_RMTLR['Pan-CK_99']['separate_corrs']\n",
    "panck_MIL= loaded_data_MIL['Pan-CK_99']['separate_corrs']\n",
    "\n",
    "Ecad_RMTLR = loaded_data_RMTLR['E-cadherin_99']['separate_corrs']\n",
    "Ecad_MIL= loaded_data_MIL['E-cadherin_99']['separate_corrs']\n",
    "\n",
    "cadpan_RMTLR = loaded_data_RMTLR['cadpan_99']['separate_corrs']\n",
    "cadpan_MIL= loaded_data_MIL['cadpan_99']['separate_corrs']\n",
    "\n",
    "CD3e_RMTLR = loaded_data_RMTLR['CD3e_99']['separate_corrs']\n",
    "CD3e_MIL= loaded_data_MIL['CD3e_99']['separate_corrs']\n",
    "\n",
    "CD31_RMTLR = loaded_data_RMTLR['CD31_99']['separate_corrs']\n",
    "CD31_MIL= loaded_data_MIL['CD31_99']['separate_corrs']\n"
   ]
  },
  {
   "cell_type": "code",
   "execution_count": 4,
   "metadata": {},
   "outputs": [
    {
     "name": "stdout",
     "output_type": "stream",
     "text": [
      "PanCK: Spearman correlation = 0.503, p-value = 0.001\n",
      "E-cadherin: Spearman correlation = 0.132, p-value = 0.412\n",
      "Cadpan: Spearman correlation = 0.241, p-value = 0.129\n",
      "CD3e: Spearman correlation = 0.372, p-value = 0.017\n",
      "CD31: Spearman correlation = 0.409, p-value = 0.008\n"
     ]
    }
   ],
   "source": [
    "from scipy.stats import spearmanr\n",
    "\n",
    "# Function to calculate Spearman correlation for two dictionaries\n",
    "def compute_spearman(dict1, dict2):\n",
    "    common_keys = set(dict1.keys()).intersection(set(dict2.keys()))  # Find common keys\n",
    "    sorted_keys = sorted(common_keys)  # Sort the keys\n",
    "\n",
    "    # Extract the first element of each list\n",
    "    values1 = [dict1[key][0] for key in sorted_keys]  \n",
    "    values2 = [dict2[key][0] for key in sorted_keys]\n",
    "\n",
    "    correlation, p_value = spearmanr(values1, values2)  # Compute Spearman correlation\n",
    "    \n",
    "    return float(correlation), float(p_value)\n",
    "\n",
    "# Compute Spearman correlations\n",
    "correlations = {\n",
    "    \"PanCK\": compute_spearman(panck_RMTLR, panck_MIL),\n",
    "    \"E-cadherin\": compute_spearman(Ecad_RMTLR, Ecad_MIL),\n",
    "    \"Cadpan\": compute_spearman(cadpan_RMTLR, cadpan_MIL),\n",
    "    \"CD3e\": compute_spearman(CD3e_RMTLR, CD3e_MIL),\n",
    "    \"CD31\": compute_spearman(CD31_RMTLR, CD31_MIL),\n",
    "}\n",
    "\n",
    "# Print results\n",
    "for marker, (corr, p_val) in correlations.items():\n",
    "    print(f\"{marker}: Spearman correlation = {corr:.3f}, p-value = {p_val:.3f}\")\n"
   ]
  },
  {
   "cell_type": "code",
   "execution_count": 5,
   "metadata": {},
   "outputs": [],
   "source": [
    "AUC_Rtumor = \"C:/Users/20182460/Desktop/Master_thesis/Code/Outputs/FINAL RESULTS/CRC/multitask_lasso/AUC_results_tumor_RMTLR.pkl\"\n",
    "AUC_RT = \"C:/Users/20182460/Desktop/Master_thesis/Code/Outputs/FINAL RESULTS/CRC/multitask_lasso/AUC_results_T_RMTLR.pkl\"\n",
    "AUC_Mtumor = \"C:/Users/20182460/Desktop/Master_thesis/Code/Outputs/FINAL RESULTS/CRC/MIL/MIL_final_pcchip/AUC_results_tumor_MIL.pkl\"\n",
    "AUC_MT = \"C:/Users/20182460/Desktop/Master_thesis/Code/Outputs/FINAL RESULTS/CRC/MIL/MIL_final_pcchip/AUC_results_T_MIL.pkl\"\n",
    "dirs = [AUC_Rtumor, AUC_RT, AUC_Mtumor, AUC_MT]\n",
    "names = [\"AUC_Rtumor\", \"AUC_RT\", \"AUC_Mtumor\", \"AUC_MT\"] \n",
    "\n",
    "loaded_data = {}\n",
    "# Load the lists using a loop\n",
    "for i in range(len(dirs)):\n",
    "    with open(dirs[i], \"rb\") as file:\n",
    "        loaded_data[names[i]] = pickle.load(file)\n"
   ]
  },
  {
   "cell_type": "code",
   "execution_count": 9,
   "metadata": {},
   "outputs": [],
   "source": [
    "tumor_RMTLR = loaded_data['AUC_Rtumor']['AUC_values']\n",
    "tumor_MIL= loaded_data['AUC_Mtumor']['AUC_values']\n",
    "\n",
    "T_RMTLR = loaded_data['AUC_RT']['AUC_values']\n",
    "T_MIL= loaded_data['AUC_MT']['AUC_values']"
   ]
  },
  {
   "cell_type": "code",
   "execution_count": 11,
   "metadata": {},
   "outputs": [
    {
     "name": "stdout",
     "output_type": "stream",
     "text": [
      "Tumor AUC: Spearman correlation = 0.25941, p-value = 0.10146\n",
      "T AUC: Spearman correlation = 0.80523, p-value = 0.00000\n"
     ]
    }
   ],
   "source": [
    "def compute_spearman2(dict1, dict2):\n",
    "    common_keys = set(dict1.keys()).intersection(set(dict2.keys()))  # Find common keys\n",
    "    sorted_keys = sorted(common_keys)  # Sort the keys\n",
    "\n",
    "    # Extract the first element of each list\n",
    "    values1 = [dict1[key] for key in sorted_keys]  \n",
    "    values2 = [dict2[key] for key in sorted_keys]\n",
    "\n",
    "    correlation, p_value = spearmanr(values1, values2)  # Compute Spearman correlation\n",
    "    \n",
    "    return float(correlation), float(p_value)\n",
    "\n",
    "tumor_correlations = {\n",
    "    \"Tumor AUC\": compute_spearman2(tumor_RMTLR, tumor_MIL),\n",
    "    \"T AUC\": compute_spearman2(T_RMTLR, T_MIL),\n",
    "}\n",
    "\n",
    "for metric, (corr, p_val) in tumor_correlations.items():\n",
    "    print(f\"{metric}: Spearman correlation = {corr:.5f}, p-value = {p_val:.5f}\")"
   ]
  }
 ],
 "metadata": {
  "kernelspec": {
   "display_name": "Python 3",
   "language": "python",
   "name": "python3"
  },
  "language_info": {
   "codemirror_mode": {
    "name": "ipython",
    "version": 3
   },
   "file_extension": ".py",
   "mimetype": "text/x-python",
   "name": "python",
   "nbconvert_exporter": "python",
   "pygments_lexer": "ipython3",
   "version": "3.11.0"
  }
 },
 "nbformat": 4,
 "nbformat_minor": 2
}
