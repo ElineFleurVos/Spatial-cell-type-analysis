{
 "cells": [
  {
   "cell_type": "code",
   "execution_count": 3,
   "metadata": {},
   "outputs": [],
   "source": [
    "import pandas as pd \n",
    "import sys\n",
    "import pickle\n",
    "from scipy.stats import wilcoxon"
   ]
  },
  {
   "cell_type": "code",
   "execution_count": 7,
   "metadata": {},
   "outputs": [],
   "source": [
    "output_dir_init = \"C:/Users/20182460/Desktop/Master_thesis/Code/Outputs/FINAL RESULTS/CRC/MIL/MIL_final_pcchip\"\n",
    "output_dir_UNI = \"C:/Users/20182460/Desktop/Master_thesis/Code/Outputs/FINAL RESULTS/CRC/MIL/MIL_UNI_FF_FFPE_tests/IF_results\"\n",
    "output_dir_RMTLR = \"C:/Users/20182460/Desktop/Master_thesis/Code/Outputs/FINAL RESULTS/CRC/multitask_lasso\"\n",
    "\n",
    "# Define the names of the files and corresponding variables\n",
    "file_names = [\"Pan-CK_99\",\"E-cadherin_99\", \"cadpan_99\", \"CD3e_99\", \"CD31_99\"]\n",
    "file_names_UNI = [\"Pan-CK\",\"E-cadherin\", \"cadpan\", \"CD3e\", \"CD31\"]\n",
    "\n",
    "loaded_data_init = {}\n",
    "# Load the lists using a loop\n",
    "for name in file_names:\n",
    "    with open(f\"{output_dir_init}/{name}.pkl\", \"rb\") as file:\n",
    "        loaded_data_init[name] = pickle.load(file)\n",
    "\n",
    "loaded_data_RMTLR = {}\n",
    "# Load the lists using a loop\n",
    "for name in file_names:\n",
    "    with open(f\"{output_dir_RMTLR}/{name}.pkl\", \"rb\") as file:\n",
    "        loaded_data_RMTLR[name] = pickle.load(file)\n",
    "\n",
    "loaded_data_macenko_FFPE = {}\n",
    "# Load the lists using a loop\n",
    "for name in file_names_UNI:\n",
    "    with open(f\"{output_dir_UNI}/macenko_FFPE_{name}.pkl\", \"rb\") as file:\n",
    "        loaded_data_macenko_FFPE[name] = pickle.load(file)\n"
   ]
  },
  {
   "cell_type": "code",
   "execution_count": 5,
   "metadata": {},
   "outputs": [],
   "source": [
    "def compute_wilcoxon(dict1, dict2):\n",
    "    common_keys = set(dict1.keys()).intersection(set(dict2.keys()))  # Find common keys\n",
    "    sorted_keys = sorted(common_keys)  # Sort the keys\n",
    "\n",
    "    # Extract the first element of each list\n",
    "    values1 = [dict1[key][0] for key in sorted_keys]  \n",
    "    values2 = [dict2[key][0] for key in sorted_keys]\n",
    "\n",
    "    stat, p_value = wilcoxon(values1, values2, alternative='two-sided')  # Perform Wilcoxon signed-rank test\n",
    "    \n",
    "    return float(stat), float(p_value)\n",
    "\n",
    "def compute_wilcoxon2(dict1, dict2):\n",
    "    common_keys = set(dict1.keys()).intersection(set(dict2.keys()))  # Find common keys\n",
    "    sorted_keys = sorted(common_keys)  # Sort the keys\n",
    "\n",
    "    # Extract the first element of each list\n",
    "    values1 = [dict1[key] for key in sorted_keys]  \n",
    "    values2 = [dict2[key] for key in sorted_keys]\n",
    "\n",
    "    stat, p_value = wilcoxon(values1, values2, alternative='two-sided')  # Perform Wilcoxon signed-rank test\n",
    "    \n",
    "    return float(stat), float(p_value)"
   ]
  },
  {
   "cell_type": "code",
   "execution_count": 12,
   "metadata": {},
   "outputs": [
    {
     "name": "stdout",
     "output_type": "stream",
     "text": [
      "239.0 0.012222479083902726\n"
     ]
    }
   ],
   "source": [
    "dict1 = loaded_data_init['cadpan_99']['separate_corrs']\n",
    "dict2 = loaded_data_macenko_FFPE['cadpan']['separate_corrs']\n",
    "\n",
    "stat, p_value = compute_wilcoxon(dict1, dict2)\n",
    "print(stat, p_value)"
   ]
  },
  {
   "cell_type": "code",
   "execution_count": 9,
   "metadata": {},
   "outputs": [
    {
     "name": "stdout",
     "output_type": "stream",
     "text": [
      "195.0 0.0017792565076888422\n"
     ]
    }
   ],
   "source": [
    "AUC_RMTLR_tumor_dir = \"C:/Users/20182460/Desktop/Master_thesis/Code/Outputs/FINAL RESULTS/CRC/multitask_lasso/AUC_results_tumor_RMTLR.pkl\"\n",
    "with open(AUC_RMTLR_tumor_dir, \"rb\") as file:\n",
    "    AUC_RMTLR_tumor = pickle.load(file)\n",
    "\n",
    "AUC_UNI_tumor_dir = \"c:/Users/20182460/Desktop/Master_thesis/Code/Outputs/FINAL RESULTS/CRC/MIL/MIL_UNI_FF_FFPE_tests/EpiT/AUC_results_tumor_FFPE_macenko.pkl\"\n",
    "with open(AUC_UNI_tumor_dir, \"rb\") as file:\n",
    "    AUC_UNI_tumor = pickle.load(file)\n",
    "    \n",
    "stat, p_value = compute_wilcoxon2(AUC_RMTLR_tumor['AUC_values'], AUC_UNI_tumor['AUC_values'])\n",
    "print(stat, p_value)"
   ]
  }
 ],
 "metadata": {
  "kernelspec": {
   "display_name": "Python 3",
   "language": "python",
   "name": "python3"
  },
  "language_info": {
   "codemirror_mode": {
    "name": "ipython",
    "version": 3
   },
   "file_extension": ".py",
   "mimetype": "text/x-python",
   "name": "python",
   "nbconvert_exporter": "python",
   "pygments_lexer": "ipython3",
   "version": "3.11.0"
  }
 },
 "nbformat": 4,
 "nbformat_minor": 2
}
