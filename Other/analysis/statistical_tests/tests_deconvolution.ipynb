{
 "cells": [
  {
   "cell_type": "code",
   "execution_count": 1,
   "metadata": {},
   "outputs": [],
   "source": [
    "import pandas as pd \n",
    "import sys\n",
    "import pickle"
   ]
  },
  {
   "cell_type": "code",
   "execution_count": 2,
   "metadata": {},
   "outputs": [],
   "source": [
    "output_dir_new = \"C:/Users/20182460/Desktop/Master_thesis/Code/Outputs/FINAL RESULTS/CRC/MIL/MIL_final_pcchip\"\n",
    "output_dir_old = \"C:/Users/20182460/Desktop/Master_thesis/Code/Outputs/FINAL RESULTS/CRC/MIL/MIL_old_deconv\"\n",
    "\n",
    "# Define the names of the files and corresponding variables\n",
    "file_names = [\"Pan-CK_99\",\"E-cadherin_99\", \"cadpan_99\", \"CD3e_99\", \"CD31_99\"]\n",
    "\n",
    "loaded_data_new = {}\n",
    "# Load the lists using a loop\n",
    "for name in file_names:\n",
    "    with open(f\"{output_dir_new}/{name}.pkl\", \"rb\") as file:\n",
    "        loaded_data_new[name] = pickle.load(file)\n",
    "\n",
    "loaded_data_old = {}\n",
    "# Load the lists using a loop\n",
    "for name in file_names:\n",
    "    with open(f\"{output_dir_old}/{name}.pkl\", \"rb\") as file:\n",
    "        loaded_data_old[name] = pickle.load(file)\n"
   ]
  },
  {
   "cell_type": "code",
   "execution_count": 3,
   "metadata": {},
   "outputs": [],
   "source": [
    "panck_new = loaded_data_new['Pan-CK_99']['separate_corrs']\n",
    "panck_old = loaded_data_old['Pan-CK_99']['separate_corrs']\n",
    "\n",
    "Ecad_new = loaded_data_new['E-cadherin_99']['separate_corrs']\n",
    "Ecad_old = loaded_data_old['E-cadherin_99']['separate_corrs']\n",
    "\n",
    "cadpan_new = loaded_data_new['cadpan_99']['separate_corrs']\n",
    "cadpan_old = loaded_data_old['cadpan_99']['separate_corrs']\n",
    "\n",
    "CD3e_new = loaded_data_new['CD3e_99']['separate_corrs']\n",
    "CD3e_old = loaded_data_old['CD3e_99']['separate_corrs']\n",
    "\n",
    "CD31_new = loaded_data_new['CD31_99']['separate_corrs']\n",
    "CD31_old = loaded_data_old['CD31_99']['separate_corrs']"
   ]
  },
  {
   "cell_type": "code",
   "execution_count": 5,
   "metadata": {},
   "outputs": [
    {
     "name": "stdout",
     "output_type": "stream",
     "text": [
      "PanCK: wilcoxon = 27.000, p-value = 0.00000\n",
      "E-cadherin: wilcoxon = 320.000, p-value = 0.15553\n",
      "Cadpan: wilcoxon = 156.000, p-value = 0.00021\n",
      "CD3e: wilcoxon = 390.000, p-value = 0.60783\n",
      "CD31: wilcoxon = 144.000, p-value = 0.00010\n"
     ]
    }
   ],
   "source": [
    "from scipy.stats import wilcoxon\n",
    "\n",
    "# Function to calculate Wilcoxon signed-rank test for two dictionaries\n",
    "def compute_wilcoxon(dict1, dict2):\n",
    "    common_keys = set(dict1.keys()).intersection(set(dict2.keys()))  # Find common keys\n",
    "    sorted_keys = sorted(common_keys)  # Sort the keys\n",
    "\n",
    "    # Extract the first element of each list\n",
    "    values1 = [dict1[key][0] for key in sorted_keys]  \n",
    "    values2 = [dict2[key][0] for key in sorted_keys]\n",
    "\n",
    "    stat, p_value = wilcoxon(values1, values2, alternative='two-sided')  # Perform Wilcoxon signed-rank test\n",
    "    \n",
    "    return float(stat), float(p_value)\n",
    "\n",
    "# Compute Spearman correlations\n",
    "correlations = {\n",
    "    \"PanCK\": compute_wilcoxon(panck_new, panck_old),\n",
    "    \"E-cadherin\": compute_wilcoxon(Ecad_new, Ecad_old),\n",
    "    \"Cadpan\": compute_wilcoxon(cadpan_new, cadpan_old),\n",
    "    \"CD3e\": compute_wilcoxon(CD3e_new, CD3e_old),\n",
    "    \"CD31\": compute_wilcoxon(CD31_new, CD31_old),\n",
    "}\n",
    "\n",
    "# Print results\n",
    "for marker, (stat, p_val) in correlations.items():\n",
    "    print(f\"{marker}: wilcoxon = {stat:.3f}, p-value = {p_val:.5f}\")\n"
   ]
  },
  {
   "cell_type": "code",
   "execution_count": 6,
   "metadata": {},
   "outputs": [],
   "source": [
    "AUC_old_tumor = \"C:/Users/20182460/Desktop/Master_thesis/Code/Outputs/FINAL RESULTS/CRC/multitask_lasso/AUC_results_tumor_RMTLR.pkl\"\n",
    "AUC_old_T = \"C:/Users/20182460/Desktop/Master_thesis/Code/Outputs/FINAL RESULTS/CRC/multitask_lasso/AUC_results_T_RMTLR.pkl\"\n",
    "AUC_new_tumor = \"C:/Users/20182460/Desktop/Master_thesis/Code/Outputs/FINAL RESULTS/CRC/MIL/MIL_old_deconv/AUC_results_tumor.pkl\"\n",
    "AUC_new_T = \"C:/Users/20182460/Desktop/Master_thesis/Code/Outputs/FINAL RESULTS/CRC/MIL/MIL_old_deconv/AUC_results_T.pkl\"\n",
    "dirs = [AUC_old_tumor, AUC_old_T, AUC_new_tumor, AUC_new_T]\n",
    "names = [\"AUC_old_tumor\", \"AUC_old_T\", \"AUC_new_tumor\", \"AUC_new_T\"] \n",
    "\n",
    "loaded_data = {}\n",
    "# Load the lists using a loop\n",
    "for i in range(len(dirs)):\n",
    "    with open(dirs[i], \"rb\") as file:\n",
    "        loaded_data[names[i]] = pickle.load(file)\n"
   ]
  },
  {
   "cell_type": "code",
   "execution_count": 7,
   "metadata": {},
   "outputs": [],
   "source": [
    "tumor_new = loaded_data['AUC_new_tumor']['AUC_values']\n",
    "tumor_old = loaded_data['AUC_old_tumor']['AUC_values']\n",
    "\n",
    "T_new = loaded_data['AUC_new_T']['AUC_values']\n",
    "T_old = loaded_data['AUC_old_T']['AUC_values']"
   ]
  },
  {
   "cell_type": "code",
   "execution_count": 9,
   "metadata": {},
   "outputs": [
    {
     "name": "stdout",
     "output_type": "stream",
     "text": [
      "Tumor AUC: stat = 202.000, p-value = 0.00249\n",
      "T AUC: stat = 73.000, p-value = 0.00000\n"
     ]
    }
   ],
   "source": [
    "def compute_wilcoxon2(dict1, dict2):\n",
    "    common_keys = set(dict1.keys()).intersection(set(dict2.keys()))  # Find common keys\n",
    "    sorted_keys = sorted(common_keys)  # Sort the keys\n",
    "\n",
    "    # Extract the first element of each list\n",
    "    values1 = [dict1[key] for key in sorted_keys]  \n",
    "    values2 = [dict2[key] for key in sorted_keys]\n",
    "\n",
    "    stat, p_value = wilcoxon(values1, values2, alternative='two-sided')  # Perform Wilcoxon signed-rank test\n",
    "    \n",
    "    return float(stat), float(p_value)\n",
    "\n",
    "stats = {\n",
    "    \"Tumor AUC\": compute_wilcoxon2(tumor_new, tumor_old),\n",
    "    \"T AUC\": compute_wilcoxon2(T_new, T_old),\n",
    "}\n",
    "\n",
    "for metric, (stat, p_val) in stats.items():\n",
    "    print(f\"{metric}: stat = {stat:.3f}, p-value = {p_val:.5f}\")\n"
   ]
  }
 ],
 "metadata": {
  "kernelspec": {
   "display_name": "Python 3",
   "language": "python",
   "name": "python3"
  },
  "language_info": {
   "codemirror_mode": {
    "name": "ipython",
    "version": 3
   },
   "file_extension": ".py",
   "mimetype": "text/x-python",
   "name": "python",
   "nbconvert_exporter": "python",
   "pygments_lexer": "ipython3",
   "version": "3.11.0"
  }
 },
 "nbformat": 4,
 "nbformat_minor": 2
}
