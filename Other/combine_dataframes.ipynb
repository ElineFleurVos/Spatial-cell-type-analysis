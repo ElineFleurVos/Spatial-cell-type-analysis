{
 "cells": [
  {
   "cell_type": "code",
   "execution_count": 2,
   "metadata": {},
   "outputs": [
    {
     "name": "stdout",
     "output_type": "stream",
     "text": [
      "Index(['tile_ID', 'tumor_purity', 'slide_id', 'Coord_X', 'Coord_Y'], dtype='object')\n",
      "Index(['tile_ID', 'T_cells', 'slide_id', 'Coord_X', 'Coord_Y'], dtype='object')\n",
      "Index(['tile_ID', 'tumor_purity', 'slide_id', 'Coord_X', 'Coord_Y', 'T_cells',\n",
      "       'endothelial_cells'],\n",
      "      dtype='object')\n",
      "192690\n"
     ]
    }
   ],
   "source": [
    "import pandas as pd \n",
    "\n",
    "#output_dir = \"/home/evos/Outputs/CRC/Orion/MIL_results/MIL_final_pcchip\"\n",
    "output_dir = \"/home/evos/Outputs/CRC/Orion/MIL_results/MIL_old_deconv\"\n",
    "predictions_dir_MIL_tumor = f\"{output_dir}/EpiT_old_deconv.csv\"\n",
    "predictions_dir_MIL_T = f\"{output_dir}/T_old_deconv.csv\"\n",
    "predictions_dir_MIL_endo = f\"{output_dir}/Endothelial_old_deconv.csv\"\n",
    "\n",
    "predictions_tumor = pd.read_csv(predictions_dir_MIL_tumor, sep=\"\\t\")\n",
    "print(predictions_tumor.columns)\n",
    "predictions_T = pd.read_csv(predictions_dir_MIL_T, sep=\"\\t\")\n",
    "print(predictions_T.columns)\n",
    "predictions_endo = pd.read_csv(predictions_dir_MIL_endo, sep=\"\\t\")\n",
    "\n",
    "merged_df = predictions_tumor.merge(\n",
    "    predictions_T, \n",
    "    on=['tile_ID', 'slide_id', 'Coord_X', 'Coord_Y'], \n",
    "    how='inner'\n",
    ").merge(\n",
    "    predictions_endo, \n",
    "    on=['tile_ID', 'slide_id', 'Coord_X', 'Coord_Y'], \n",
    "    how='inner'\n",
    ")\n",
    "\n",
    "print(merged_df.columns)\n",
    "print(len(merged_df))\n",
    "\n",
    "merged_df.to_csv(f\"{output_dir}/all_cell_types.csv\", index=False)\n",
    "\n"
   ]
  },
  {
   "cell_type": "code",
   "execution_count": 1,
   "metadata": {},
   "outputs": [
    {
     "name": "stdout",
     "output_type": "stream",
     "text": [
      "Index(['tile_ID', 'B', 'slide_id', 'Coord_X', 'Coord_Y', 'CD4_T_cells',\n",
      "       'CD8_T_cells', 'Macro', 'stromal_cells'],\n",
      "      dtype='object')\n",
      "192690\n"
     ]
    }
   ],
   "source": [
    "import pandas as pd \n",
    "\n",
    "output_dir = \"/home/evos/Outputs/CRC/Orion/MIL_results/MIL_extend_cell_types\"\n",
    "predictions_dir_B = f\"{output_dir}/pcchip_B.csv\"\n",
    "predictions_dir_CD4 = f\"{output_dir}/pcchip_CD4_T.csv\"\n",
    "predictions_dir_CD8 = f\"{output_dir}/pcchip_CD8_T.csv\"\n",
    "predictions_dir_macro = f\"{output_dir}/pcchip_macro.csv\"\n",
    "predictions_dir_stromal = f\"{output_dir}/pcchip_Stromal.csv\"\n",
    "\n",
    "predictions_B = pd.read_csv(predictions_dir_B, sep=\"\\t\")\n",
    "predictions_CD4 = pd.read_csv(predictions_dir_CD4, sep=\"\\t\")\n",
    "predictions_CD8 = pd.read_csv(predictions_dir_CD8, sep=\"\\t\")\n",
    "predictions_macro = pd.read_csv(predictions_dir_macro, sep=\"\\t\")\n",
    "predictions_stromal = pd.read_csv(predictions_dir_stromal, sep=\"\\t\")\n",
    "\n",
    "merged_df = predictions_B.merge(\n",
    "    predictions_CD4, \n",
    "    on=['tile_ID', 'slide_id', 'Coord_X', 'Coord_Y'], \n",
    "    how='inner'\n",
    ").merge(\n",
    "    predictions_CD8, \n",
    "    on=['tile_ID', 'slide_id', 'Coord_X', 'Coord_Y'], \n",
    "    how='inner'\n",
    ").merge(\n",
    "    predictions_macro, \n",
    "    on=['tile_ID', 'slide_id', 'Coord_X', 'Coord_Y'], \n",
    "    how='inner'\n",
    ").merge(\n",
    "    predictions_stromal, \n",
    "    on=['tile_ID', 'slide_id', 'Coord_X', 'Coord_Y'], \n",
    "    how='inner'\n",
    ")\n",
    "\n",
    "print(merged_df.columns)\n",
    "print(len(merged_df))\n",
    "\n",
    "merged_df.to_csv(f\"{output_dir}/pchhip_all_cell_types.csv\", index=False)"
   ]
  },
  {
   "cell_type": "code",
   "execution_count": 4,
   "metadata": {},
   "outputs": [
    {
     "name": "stdout",
     "output_type": "stream",
     "text": [
      "Index(['tile_ID', 'B', 'slide_id', 'Coord_X', 'Coord_Y', 'CD4_T_cells',\n",
      "       'CD8_T_cells', 'macro', 'stromal_cells'],\n",
      "      dtype='object')\n",
      "192690\n"
     ]
    }
   ],
   "source": [
    "import pandas as pd \n",
    "\n",
    "output_dir = \"/home/evos/Outputs/CRC/Orion/MIL_results/MIL_extend_cell_types\"\n",
    "predictions_dir_B = f\"{output_dir}/UNI_B_FFPE.csv\"\n",
    "predictions_dir_CD4 = f\"{output_dir}/UNI_CD4_T_FFPE.csv\"\n",
    "predictions_dir_CD8 = f\"{output_dir}/UNI_CD8_T_FFPE.csv\"\n",
    "predictions_dir_macro = f\"{output_dir}/UNI_macro_FFPE.csv\"\n",
    "predictions_dir_stromal = f\"{output_dir}/UNI_Stromal_FFPE.csv\"\n",
    "\n",
    "predictions_B = pd.read_csv(predictions_dir_B, sep=\"\\t\")\n",
    "predictions_CD4 = pd.read_csv(predictions_dir_CD4, sep=\"\\t\")\n",
    "predictions_CD8 = pd.read_csv(predictions_dir_CD8, sep=\"\\t\")\n",
    "predictions_macro = pd.read_csv(predictions_dir_macro, sep=\"\\t\")\n",
    "predictions_stromal = pd.read_csv(predictions_dir_stromal, sep=\"\\t\")\n",
    "\n",
    "merged_df = predictions_B.merge(\n",
    "    predictions_CD4, \n",
    "    on=['tile_ID', 'slide_id', 'Coord_X', 'Coord_Y'], \n",
    "    how='inner'\n",
    ").merge(\n",
    "    predictions_CD8, \n",
    "    on=['tile_ID', 'slide_id', 'Coord_X', 'Coord_Y'], \n",
    "    how='inner'\n",
    ").merge(\n",
    "    predictions_macro, \n",
    "    on=['tile_ID', 'slide_id', 'Coord_X', 'Coord_Y'], \n",
    "    how='inner'\n",
    ").merge(\n",
    "    predictions_stromal, \n",
    "    on=['tile_ID', 'slide_id', 'Coord_X', 'Coord_Y'], \n",
    "    how='inner'\n",
    ")\n",
    "\n",
    "print(merged_df.columns)\n",
    "print(len(merged_df))\n",
    "\n",
    "merged_df.to_csv(f\"{output_dir}/UNI_all_cell_types.csv\", index=False)"
   ]
  },
  {
   "cell_type": "code",
   "execution_count": 8,
   "metadata": {},
   "outputs": [
    {
     "name": "stdout",
     "output_type": "stream",
     "text": [
      "192690\n",
      "192690\n",
      "Index(['tile_ID', 'tumor_purity', 'slide_id', 'Coord_X', 'Coord_Y'], dtype='object')\n",
      "Index(['tile_ID', 'tumor_purity', 'slide_id', 'Coord_X', 'Coord_Y'], dtype='object')\n"
     ]
    }
   ],
   "source": [
    "print(len(predictions_tumor))\n",
    "print(len(predictions_T))\n",
    "#print(len(predictions_endo))\n",
    "print(predictions_tumor.columns)\n",
    "print(predictions_T.columns)\n",
    "#print(predictions_endo.columns)"
   ]
  },
  {
   "cell_type": "code",
   "execution_count": 9,
   "metadata": {},
   "outputs": [
    {
     "name": "stdout",
     "output_type": "stream",
     "text": [
      "Index(['tile_ID', 'tumor_purity_x', 'slide_id', 'Coord_X', 'Coord_Y',\n",
      "       'tumor_purity_y'],\n",
      "      dtype='object')\n",
      "192690\n"
     ]
    }
   ],
   "source": [
    "merged_df = predictions_tumor.merge(\n",
    "    predictions_T, \n",
    "    on=['tile_ID', 'slide_id', 'Coord_X', 'Coord_Y'], \n",
    "    how='inner'\n",
    ")\n",
    "\n",
    "# merged_df = predictions_tumor.merge(\n",
    "#     predictions_T, \n",
    "#     on=['tile_ID', 'slide_id', 'Coord_X', 'Coord_Y'], \n",
    "#     how='inner'\n",
    "# ).merge(\n",
    "#     predictions_endo, \n",
    "#     on=['tile_ID', 'slide_id', 'Coord_X', 'Coord_Y'], \n",
    "#     how='inner'\n",
    "# )\n",
    "\n",
    "print(merged_df.columns)\n",
    "print(len(merged_df))\n",
    "\n",
    "output_dir = \"/home/evos/Outputs/CRC/Orion/MIL_results/MIL_basic_tests\"\n",
    "merged_df.to_csv(f\"{output_dir}/{folder}/all_cell_types.csv\", index=False)"
   ]
  }
 ],
 "metadata": {
  "kernelspec": {
   "display_name": "other",
   "language": "python",
   "name": "python3"
  },
  "language_info": {
   "codemirror_mode": {
    "name": "ipython",
    "version": 3
   },
   "file_extension": ".py",
   "mimetype": "text/x-python",
   "name": "python",
   "nbconvert_exporter": "python",
   "pygments_lexer": "ipython3",
   "version": "3.11.10"
  }
 },
 "nbformat": 4,
 "nbformat_minor": 2
}
