{
 "cells": [
  {
   "cell_type": "code",
   "execution_count": 1,
   "metadata": {},
   "outputs": [],
   "source": [
    "import pandas as pd"
   ]
  },
  {
   "cell_type": "code",
   "execution_count": 2,
   "metadata": {},
   "outputs": [
    {
     "name": "stdout",
     "output_type": "stream",
     "text": [
      "41\n"
     ]
    }
   ],
   "source": [
    "features_orion_dir = \"/home/evos/Outputs/CRC/Orion/1_extract_histopathological_features_gamma/features.txt\"\n",
    "features_orion = pd.read_csv(features_orion_dir, sep=\"\\t\")\n",
    "features_orion['slide_submitter_id'] = features_orion['tile_ID'].str.rsplit('-', n=1).str[0]\n",
    "print(len(features_orion['slide_submitter_id'].unique()))"
   ]
  },
  {
   "cell_type": "code",
   "execution_count": 5,
   "metadata": {},
   "outputs": [
    {
     "name": "stdout",
     "output_type": "stream",
     "text": [
      "[4769, 3236, 3897, 4568, 6331, 3962, 5174, 4304, 2879, 2546, 4342, 4438, 4454, 4489, 6731, 6363, 5500, 6921, 5670, 4581, 4879, 6269, 6235, 5955, 3824, 3337, 5385, 3241, 5674, 6297, 5809, 1973, 1855, 5878, 4780, 3345, 6193, 5437, 4587, 3072, 4430]\n",
      "Minimum: 1855, Maximum: 6921\n",
      "Average: 4722.195121951219\n"
     ]
    }
   ],
   "source": [
    "row_counts = features_orion.groupby('slide_submitter_id').size().tolist()\n",
    "\n",
    "# Verifying the length of the list and the sum\n",
    "assert len(row_counts) == len(features_orion['slide_submitter_id'].unique()), \"The list length doesn't match the number of unique slide IDs.\"\n",
    "assert sum(row_counts) == len(features_orion), \"The sum of the list doesn't match the total number of rows.\"\n",
    "\n",
    "print(row_counts)  # This list contains the count of rows for each slide_submitter_id\n",
    "\n",
    "# Minimum and maximum of the list\n",
    "min_count = min(row_counts)\n",
    "max_count = max(row_counts)\n",
    "\n",
    "print(f\"Minimum: {min_count}, Maximum: {max_count}\")\n",
    "average_count = sum(row_counts) / len(row_counts)\n",
    "print(f\"Average: {average_count}\")"
   ]
  }
 ],
 "metadata": {
  "kernelspec": {
   "display_name": "tiatoolbox",
   "language": "python",
   "name": "python3"
  },
  "language_info": {
   "codemirror_mode": {
    "name": "ipython",
    "version": 3
   },
   "file_extension": ".py",
   "mimetype": "text/x-python",
   "name": "python",
   "nbconvert_exporter": "python",
   "pygments_lexer": "ipython3",
   "version": "3.11.8"
  }
 },
 "nbformat": 4,
 "nbformat_minor": 2
}
