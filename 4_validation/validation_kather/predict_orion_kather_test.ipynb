{
 "cells": [
  {
   "cell_type": "code",
   "execution_count": 1,
   "metadata": {},
   "outputs": [
    {
     "name": "stderr",
     "output_type": "stream",
     "text": [
      "|2024-08-21|13:58:23.806| [WARNING] /home/evos/miniconda/envs/tiatoolbox/lib/python3.11/site-packages/tqdm/auto.py:21: TqdmWarning: IProgress not found. Please update jupyter and ipywidgets. See https://ipywidgets.readthedocs.io/en/stable/user_install.html\n",
      "  from .autonotebook import tqdm as notebook_tqdm\n",
      "\n"
     ]
    }
   ],
   "source": [
    "from tiatoolbox.wsicore.wsireader import OpenSlideWSIReader, WSIReader, TIFFWSIReader\n",
    "from tiatoolbox.models.dataset.classification import WSIPatchDataset\n",
    "from pprint import pprint\n",
    "import tifffile \n",
    "from tiatoolbox.tools import patchextraction\n",
    "#from tiatoolbox.tools.patchextraction import get_coordinates\n",
    "import numpy as np\n",
    "import palom\n",
    "import skimage.transform\n",
    "import skimage.exposure\n",
    "from tiatoolbox import logger\n",
    "from tiatoolbox.models.engine.patch_predictor import (\n",
    "    IOPatchPredictorConfig,\n",
    "    PatchPredictor,)\n",
    "import os \n",
    "import pickle\n",
    "import skimage.exposure\n",
    "import torchvision.transforms\n",
    "from tiatoolbox import data\n",
    "from tiatoolbox.tools import stainnorm\n",
    "import cv2"
   ]
  },
  {
   "cell_type": "code",
   "execution_count": 11,
   "metadata": {},
   "outputs": [],
   "source": [
    "def preproc_func_gamma(img):\n",
    "    return torchvision.transforms.ToTensor()(\n",
    "        skimage.exposure.adjust_gamma(img, 2.2)\n",
    "    ).permute(1, 2, 0)\n",
    "\n",
    "\n",
    "def preproc_func_macenko(img):\n",
    "    target_image_dir = \"/home/evos/Data/COLO/normalization_template.jpg\"  #SET CORRECT TARGET IMAGE PATH\n",
    "    target_image = cv2.imread(target_image_dir)\n",
    "    stain_normalizer = stainnorm.get_normalizer('Macenko')\n",
    "    stain_normalizer.fit(target_image)\n",
    "    normalized_img = stain_normalizer.transform(img.copy())\n",
    "\n",
    "    return normalized_img\n"
   ]
  },
  {
   "cell_type": "code",
   "execution_count": 12,
   "metadata": {},
   "outputs": [],
   "source": [
    "def predict_orion_kather(tiles_dir, slides_dir, output_dir, preproc_func, pretrained_model, batch_size=32):\n",
    "\n",
    "    slides = os.listdir(slides_dir)\n",
    "    counter=1\n",
    "    for slide_name in os.listdir(slides_dir):\n",
    "        print(counter)\n",
    "        patch_list = []\n",
    "        coordinates_ordered = np.empty((0, 2), dtype=np.int64)\n",
    "        tiles_dir = \"/home/evos/Outputs/COLO/Orion_tiles\"\n",
    "        for tile_name in os.listdir(tiles_dir):\n",
    "            if slide_name in tile_name:\n",
    "                full_path = os.path.join(tiles_dir, tile_name)\n",
    "                patch_list.append(full_path)\n",
    "                tile_name = tile_name.split(\".\")[0]\n",
    "                x_coor = int(tile_name.split(\"_\")[-2])\n",
    "                y_coor = int(tile_name.split(\"_\")[-1])\n",
    "                coor = np.array([x_coor, y_coor])\n",
    "                coordinates_ordered = np.vstack([coordinates_ordered, coor])\n",
    "\n",
    "        ON_GPU = True\n",
    "\n",
    "        pretrained_model=pretrained_model\n",
    "        predictor = PatchPredictor(pretrained_model=pretrained_model, batch_size=batch_size)\n",
    "        \n",
    "        if preproc_func == 'gamma':\n",
    "            predictor.model.preproc_func = preproc_func_gamma\n",
    "\n",
    "        output = predictor.predict(imgs=patch_list, mode=\"patch\", on_gpu=ON_GPU, return_probabilities=True)\n",
    "\n",
    "        output[\"coordinates\"]=coordinates_ordered\n",
    "\n",
    "        preproc_func = 'gamma'\n",
    "        predictions_file_path = \"{}/{}_{}_{}_cell_type_map.pkl\".format(output_dir, slide_name, preproc_func, pretrained_model)\n",
    "        print(predictions_file_path)\n",
    "\n",
    "        with open(predictions_file_path, 'wb') as f:\n",
    "            pickle.dump(output, f)\n",
    "\n",
    "        counter=counter+1\n",
    "\n",
    "    print(\"Finished making Orion predictions\")"
   ]
  },
  {
   "cell_type": "code",
   "execution_count": 14,
   "metadata": {},
   "outputs": [
    {
     "name": "stdout",
     "output_type": "stream",
     "text": [
      "10446\n"
     ]
    }
   ],
   "source": [
    "slide_name = \"18459_LSP10353_US_SCAN_OR_001__093059-registered\"\n",
    "patch_list = []\n",
    "coordinates_ordered = np.empty((0, 2), dtype=np.int64)\n",
    "tiles_dir = \"/home/evos/Outputs/COLO/Orion_tiles\"\n",
    "for tile_name in os.listdir(tiles_dir):\n",
    "    if slide_name in tile_name:\n",
    "        full_path = os.path.join(tiles_dir, tile_name)\n",
    "        patch_list.append(full_path)\n",
    "        tile_name = tile_name.split(\".\")[0]\n",
    "        x_coor = int(tile_name.split(\"_\")[-2])\n",
    "        y_coor = int(tile_name.split(\"_\")[-1])\n",
    "        coor = np.array([x_coor, y_coor])\n",
    "        coordinates_ordered = np.vstack([coordinates_ordered, coor])\n",
    "\n",
    "print(len(patch_list))"
   ]
  },
  {
   "cell_type": "code",
   "execution_count": 16,
   "metadata": {},
   "outputs": [
    {
     "name": "stderr",
     "output_type": "stream",
     "text": [
      "100%|#########################################| 327/327 [17:03<00:00,  3.13s/it]"
     ]
    },
    {
     "name": "stdout",
     "output_type": "stream",
     "text": [
      "/home/evos/Outputs/COLO/Orion_DL_predictions/18459_LSP10353_US_SCAN_OR_001__093059-registered_Macenko_densenet161-kather100k_cell_type_map.pkl\n"
     ]
    },
    {
     "name": "stderr",
     "output_type": "stream",
     "text": [
      "\n"
     ]
    }
   ],
   "source": [
    "output_dir = \"/home/evos/Outputs/COLO/Orion_DL_predictions\"\n",
    "slides_dir = \"/home/evos/Data/COLO/Orion_slides\"\n",
    "target_image_dir = \"/home/evos/Data/COLO/normalization_template.jpg\"\n",
    "\n",
    "ON_GPU = True\n",
    "\n",
    "pretrained_model='densenet161-kather100k'\n",
    "#pretrained_model='resnet18-kather100k'\n",
    "batch_size=32\n",
    "\n",
    "predictor = PatchPredictor(pretrained_model=pretrained_model, batch_size=32)\n",
    "predictor.model.preproc_func = preproc_func_macenko\n",
    "\n",
    "output = predictor.predict(imgs=patch_list, mode=\"patch\", on_gpu=ON_GPU, return_probabilities=True)\n",
    "\n",
    "output[\"coordinates\"]=coordinates_ordered\n",
    "\n",
    "preproc_func = \"Macenko\"\n",
    "predictions_file_path = \"{}/{}_{}_{}_cell_type_map.pkl\".format(output_dir, slide_name, preproc_func, pretrained_model)\n",
    "print(predictions_file_path)\n",
    "\n",
    "with open(predictions_file_path, 'wb') as f:\n",
    "    pickle.dump(output, f)\n"
   ]
  }
 ],
 "metadata": {
  "kernelspec": {
   "display_name": "tiatoolbox",
   "language": "python",
   "name": "python3"
  },
  "language_info": {
   "codemirror_mode": {
    "name": "ipython",
    "version": 3
   },
   "file_extension": ".py",
   "mimetype": "text/x-python",
   "name": "python",
   "nbconvert_exporter": "python",
   "pygments_lexer": "ipython3",
   "version": "3.11.8"
  }
 },
 "nbformat": 4,
 "nbformat_minor": 2
}
